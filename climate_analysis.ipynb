{
 "cells": [
  {
   "cell_type": "markdown",
   "metadata": {},
   "source": [
    "# References\n",
    "* https://stackabuse.com/converting-strings-to-datetime-in-python/\n",
    "* https://stackoverflow.com/questions/28033656/finding-most-frequent-values-in-column-of-array-in-sql-alchemy\n",
    "* https://stackoverflow.com/questions/12998430/remove-xticks-in-a-matplotlib-plot"
   ]
  },
  {
   "cell_type": "code",
   "execution_count": 1,
   "metadata": {},
   "outputs": [],
   "source": [
    "%matplotlib inline\n",
    "from matplotlib import style\n",
    "style.use('fivethirtyeight')\n",
    "import matplotlib.pyplot as plt"
   ]
  },
  {
   "cell_type": "code",
   "execution_count": 2,
   "metadata": {},
   "outputs": [],
   "source": [
    "import numpy as np\n",
    "import pandas as pd"
   ]
  },
  {
   "cell_type": "code",
   "execution_count": 3,
   "metadata": {},
   "outputs": [],
   "source": [
    "import datetime as dt"
   ]
  },
  {
   "cell_type": "code",
   "execution_count": 4,
   "metadata": {},
   "outputs": [],
   "source": [
    "from scipy import stats"
   ]
  },
  {
   "cell_type": "markdown",
   "metadata": {},
   "source": [
    "# Reflect Tables into SQLAlchemy ORM"
   ]
  },
  {
   "cell_type": "code",
   "execution_count": 5,
   "metadata": {},
   "outputs": [],
   "source": [
    "# Python SQL toolkit and Object Relational Mapper\n",
    "import sqlalchemy\n",
    "from sqlalchemy.ext.automap import automap_base\n",
    "from sqlalchemy.orm import Session\n",
    "from sqlalchemy import create_engine, inspect, func, desc"
   ]
  },
  {
   "cell_type": "code",
   "execution_count": 6,
   "metadata": {},
   "outputs": [],
   "source": [
    "engine = create_engine(\"sqlite:///Resources/hawaii.sqlite\")"
   ]
  },
  {
   "cell_type": "code",
   "execution_count": 7,
   "metadata": {},
   "outputs": [],
   "source": [
    "# Reflect an existing database into a new model\n",
    "Base = automap_base()\n",
    "# Reflect the tables\n",
    "Base.prepare(engine, reflect=True)"
   ]
  },
  {
   "cell_type": "code",
   "execution_count": 8,
   "metadata": {},
   "outputs": [
    {
     "data": {
      "text/plain": [
       "['measurement', 'station']"
      ]
     },
     "execution_count": 8,
     "metadata": {},
     "output_type": "execute_result"
    }
   ],
   "source": [
    "# View all classes that automap found\n",
    "Base.classes.keys()"
   ]
  },
  {
   "cell_type": "code",
   "execution_count": 9,
   "metadata": {},
   "outputs": [],
   "source": [
    "# Save references to each table\n",
    "Measurement = Base.classes.measurement\n",
    "Station = Base.classes.station"
   ]
  },
  {
   "cell_type": "code",
   "execution_count": 10,
   "metadata": {},
   "outputs": [],
   "source": [
    "# Create our session (link) from Python to the DB\n",
    "session = Session(engine)"
   ]
  },
  {
   "cell_type": "code",
   "execution_count": 11,
   "metadata": {},
   "outputs": [
    {
     "name": "stdout",
     "output_type": "stream",
     "text": [
      "measurement columns\n",
      "id INTEGER\n",
      "station TEXT\n",
      "date TEXT\n",
      "prcp FLOAT\n",
      "tobs FLOAT\n",
      "\n",
      "station columns\n",
      "id INTEGER\n",
      "station TEXT\n",
      "name TEXT\n",
      "latitude FLOAT\n",
      "longitude FLOAT\n",
      "elevation FLOAT\n"
     ]
    }
   ],
   "source": [
    "# Determine column names\n",
    "\n",
    "# Create inspector\n",
    "inspector = inspect(engine)\n",
    "\n",
    "# Get column info for measurement table\n",
    "meas_columns = inspector.get_columns('measurement')\n",
    "print('measurement columns')\n",
    "for col in meas_columns:\n",
    "    print(col['name'], col['type'])\n",
    "\n",
    "# Get column info for station table\n",
    "stat_columns = inspector.get_columns('station')\n",
    "print('\\nstation columns')\n",
    "for col in stat_columns:\n",
    "    print(col['name'], col['type'])"
   ]
  },
  {
   "cell_type": "markdown",
   "metadata": {},
   "source": [
    "# Exploratory Climate Analysis"
   ]
  },
  {
   "cell_type": "code",
   "execution_count": 12,
   "metadata": {},
   "outputs": [
    {
     "data": {
      "image/png": "[encoded data removed]",
      "text/plain": [
       "<Figure size 432x288 with 1 Axes>"
      ]
     },
     "metadata": {},
     "output_type": "display_data"
    }
   ],
   "source": [
    "# Design a query to retrieve the last 12 months of precipitation data and plot the results\n",
    "\n",
    "# Calculate the date 1 year ago from the last data point in the database\n",
    "last_date = session.query(Measurement.date).order_by(Measurement.date.desc()).first()[0]\n",
    "last_date_dt = dt.datetime.strptime(last_date, '%Y-%m-%d')\n",
    "year_ago = last_date_dt - dt.timedelta(days=366)\n",
    "\n",
    "# Retrieve date and precipitation from database\n",
    "last_12_prcp = session.query(Measurement.date, Measurement.prcp)\\\n",
    "                    .filter(Measurement.date >= year_ago)\\\n",
    "                    .all()\n",
    "# Store in DataFrame\n",
    "prcp_df = pd.DataFrame(last_12_prcp, columns=['Date', 'Precipitation'])\n",
    "\n",
    "# Group by date and determine average for each date\n",
    "# NOTE: The image in the homework key is a line plot of multiple y values for each x value which is unclear. \n",
    "prcp_avg = prcp_df.groupby('Date').mean().sort_values(by='Date', ascending=True)\n",
    "\n",
    "# Plot the data\n",
    "prcp_avg.plot(ylabel='Inches Rainfall', title='Average Rainfall per Day', rot=90)\n",
    "plt.tight_layout()\n",
    "plt.savefig('Images/avgrainfall.png')\n",
    "plt.show()"
   ]
  },
  {
   "cell_type": "code",
   "execution_count": 13,
   "metadata": {},
   "outputs": [
    {
     "data": {
      "text/html": [
       "<div>\n",
       "<style scoped>\n",
       "    .dataframe tbody tr th:only-of-type {\n",
       "        vertical-align: middle;\n",
       "    }\n",
       "\n",
       "    .dataframe tbody tr th {\n",
       "        vertical-align: top;\n",
       "    }\n",
       "\n",
       "    .dataframe thead th {\n",
       "        text-align: right;\n",
       "    }\n",
       "</style>\n",
       "<table border=\"1\" class=\"dataframe\">\n",
       "  <thead>\n",
       "    <tr style=\"text-align: right;\">\n",
       "      <th></th>\n",
       "      <th>Precipitation</th>\n",
       "    </tr>\n",
       "  </thead>\n",
       "  <tbody>\n",
       "    <tr>\n",
       "      <th>count</th>\n",
       "      <td>2021.000000</td>\n",
       "    </tr>\n",
       "    <tr>\n",
       "      <th>mean</th>\n",
       "      <td>0.177279</td>\n",
       "    </tr>\n",
       "    <tr>\n",
       "      <th>std</th>\n",
       "      <td>0.461190</td>\n",
       "    </tr>\n",
       "    <tr>\n",
       "      <th>min</th>\n",
       "      <td>0.000000</td>\n",
       "    </tr>\n",
       "    <tr>\n",
       "      <th>25%</th>\n",
       "      <td>0.000000</td>\n",
       "    </tr>\n",
       "    <tr>\n",
       "      <th>50%</th>\n",
       "      <td>0.020000</td>\n",
       "    </tr>\n",
       "    <tr>\n",
       "      <th>75%</th>\n",
       "      <td>0.130000</td>\n",
       "    </tr>\n",
       "    <tr>\n",
       "      <th>max</th>\n",
       "      <td>6.700000</td>\n",
       "    </tr>\n",
       "  </tbody>\n",
       "</table>\n",
       "</div>"
      ],
      "text/plain": [
       "       Precipitation\n",
       "count    2021.000000\n",
       "mean        0.177279\n",
       "std         0.461190\n",
       "min         0.000000\n",
       "25%         0.000000\n",
       "50%         0.020000\n",
       "75%         0.130000\n",
       "max         6.700000"
      ]
     },
     "execution_count": 13,
     "metadata": {},
     "output_type": "execute_result"
    }
   ],
   "source": [
    "# Use Pandas to calculate the summary statistics for the precipitation data\n",
    "prcp_df.describe()"
   ]
  },
  {
   "cell_type": "code",
   "execution_count": 14,
   "metadata": {},
   "outputs": [
    {
     "name": "stdout",
     "output_type": "stream",
     "text": [
      "There are 9 stations in this dataset.\n"
     ]
    }
   ],
   "source": [
    "# Design a query to show how many stations are available in this dataset\n",
    "num_stations = session.query(Station).count()\n",
    "print(f'There are {num_stations} stations in this dataset.')"
   ]
  },
  {
   "cell_type": "code",
   "execution_count": 15,
   "metadata": {},
   "outputs": [
    {
     "name": "stdout",
     "output_type": "stream",
     "text": [
      "\n",
      "The most active station in the dataset is USC00519281.\n"
     ]
    }
   ],
   "source": [
    "# Determine the most active station in the dataset (defined as the station with the most measurements)\n",
    "most_active = session.query(Measurement.station, func.count(Measurement.id).label('frqcy')).group_by(Measurement.station).order_by(desc('frqcy')).first()[0]\n",
    "    \n",
    "print(f'\\nThe most active station in the dataset is {most_active}.')"
   ]
  },
  {
   "cell_type": "code",
   "execution_count": 16,
   "metadata": {},
   "outputs": [
    {
     "name": "stdout",
     "output_type": "stream",
     "text": [
      "The lowest recorded temperature at the most active station is 54.0.\n",
      "The highest recorded temperature at the most active station is 85.0.\n",
      "The average recorded temperature at the most active station is 71.7.\n"
     ]
    }
   ],
   "source": [
    "# Calculate the lowest recorded temp, highest recorded temp, and average temp of the most active station\n",
    "lowest_temp = session.query(func.min(Measurement.tobs)).filter(Measurement.station == most_active).all()[0][0]\n",
    "highest_temp = session.query(func.max(Measurement.tobs)).filter(Measurement.station == most_active).all()[0][0]\n",
    "avg_temp = session.query(func.avg(Measurement.tobs)).filter(Measurement.station == most_active).all()[0][0]\n",
    "\n",
    "print(f'The lowest recorded temperature at the most active station is {lowest_temp}.\\n'\n",
    "     f'The highest recorded temperature at the most active station is {highest_temp}.\\n'\n",
    "     f'The average recorded temperature at the most active station is {round(avg_temp, 1)}.')"
   ]
  },
  {
   "cell_type": "code",
   "execution_count": 17,
   "metadata": {},
   "outputs": [
    {
     "data": {
      "image/png": "[encoded data removed]",
      "text/plain": [
       "<Figure size 432x288 with 1 Axes>"
      ]
     },
     "metadata": {},
     "output_type": "display_data"
    }
   ],
   "source": [
    "# Query the last 12 months of temperature observation data for the most active station and plot the results as a histogram\n",
    "\n",
    "# Retrieve data from database\n",
    "last_12_active = session.query(Measurement.tobs)\\\n",
    "                    .filter(Measurement.date >= year_ago)\\\n",
    "                    .filter(Measurement.station == most_active)\\\n",
    "                    .all()\n",
    "\n",
    "# Unpack tuples and store in list\n",
    "active_list = []\n",
    "for temp in last_12_active:\n",
    "    active_list.append(temp[0])\n",
    "\n",
    "# Plot results as a histogram\n",
    "plt.hist(active_list, bins=12)\n",
    "plt.ylabel(\"Number of Observations\")\n",
    "plt.xlabel(\"Temperature (F)\")\n",
    "plt.title(\"Temps of Most Active Station\")\n",
    "plt.tight_layout()\n",
    "plt.savefig('Images/tempsmostactivestation.png')\n",
    "plt.show()"
   ]
  },
  {
   "cell_type": "markdown",
   "metadata": {},
   "source": [
    "## Bonus Challenge Assignment"
   ]
  },
  {
   "cell_type": "code",
   "execution_count": 18,
   "metadata": {},
   "outputs": [
    {
     "name": "stdout",
     "output_type": "stream",
     "text": [
      "The average temperature in June is 74.94411764705882.\n",
      "The average temperature in December is 71.04152933421226.\n",
      "We reject the null hypothesis that there is no significant difference between the June and Dec. temps.\n",
      "(pvalue = 3.9025129038616655e-191)\n"
     ]
    }
   ],
   "source": [
    "# Identify the average temperature in June at all stations across all available years in the dataset. \n",
    "june_avg = session.query(func.avg(Measurement.tobs)).filter(func.strftime(\"%m\", Measurement.date) == \"06\").all()[0][0]\n",
    "print(f'The average temperature in June is {june_avg}.')\n",
    "\n",
    "# Put all June temps in a list\n",
    "june = session.query(Measurement.tobs).filter(func.strftime(\"%m\", Measurement.date) == \"06\").all()\n",
    "june_all = [temp[0] for temp in june]\n",
    "\n",
    "\n",
    "# Identify the average temperature in December at all stations across all available years in the dataset.\n",
    "dec_avg = session.query(func.avg(Measurement.tobs)).filter(func.strftime(\"%m\", Measurement.date) == \"12\").all()[0][0]\n",
    "print(f'The average temperature in December is {dec_avg}.')\n",
    "\n",
    "# Put all December temps in a list\n",
    "dec = session.query(Measurement.tobs).filter(func.strftime(\"%m\", Measurement.date) == \"12\").all()\n",
    "dec_all = [temp[0] for temp in dec]\n",
    "\n",
    "# Independent t-test to determine if the difference in temperature is statistically significant\n",
    "t_test = stats.ttest_ind(june_all, dec_all)\n",
    "\n",
    "if t_test.pvalue < 0.05:\n",
    "    print(f'We reject the null hypothesis that there is no significant difference between the June and Dec. temps.\\n'\n",
    "         f'(pvalue = {t_test.pvalue})')\n",
    " \n",
    "else:\n",
    "    print(f'We fail to reject the null hypothesis that there is no significant difference between the June and Dec. temps.\\n'\n",
    "        f'(pvalue = {t_test.pvalue})')   \n"
   ]
  },
  {
   "cell_type": "code",
   "execution_count": 19,
   "metadata": {},
   "outputs": [
    {
     "name": "stdout",
     "output_type": "stream",
     "text": [
      "(62.0, 69.57142857142857, 74.0)\n"
     ]
    }
   ],
   "source": [
    "# This function called `calc_temps` will accept start date and end date in the format '%Y-%m-%d' \n",
    "# and return the minimum, average, and maximum temperatures for that range of dates\n",
    "def calc_temps(start_date, end_date):\n",
    "    \"\"\"TMIN, TAVG, and TMAX for a list of dates.\n",
    "    \n",
    "    Args:\n",
    "        start_date (string): A date string in the format %Y-%m-%d\n",
    "        end_date (string): A date string in the format %Y-%m-%d\n",
    "        \n",
    "    Returns:\n",
    "        TMIN, TAVE, and TMAX\n",
    "    \"\"\"\n",
    "    \n",
    "    return session.query(func.min(Measurement.tobs), func.avg(Measurement.tobs), func.max(Measurement.tobs)).\\\n",
    "        filter(Measurement.date >= start_date).filter(Measurement.date <= end_date).all()\n",
    "\n",
    "# function usage example\n",
    "print(calc_temps('2012-02-28', '2012-03-05')[0])"
   ]
  },
  {
   "cell_type": "code",
   "execution_count": 20,
   "metadata": {},
   "outputs": [
    {
     "name": "stdout",
     "output_type": "stream",
     "text": [
      "Trip Dates: 2017-05-10 to 2017-05-25\n",
      "The minimum temperature is 68.0\n",
      "The average temperature is 74.9\n",
      "The maximum temperature is 87.0\n"
     ]
    }
   ],
   "source": [
    "# Calculate the tmin, tavg, and tmax for chosen trip dates using the last year of temp data in the database\n",
    "\n",
    "start_date = '2017-05-10'\n",
    "end_date = '2017-05-25'\n",
    "\n",
    "trip_temps = calc_temps(start_date, end_date)[0]\n",
    "print(f'Trip Dates: {start_date} to {end_date}')\n",
    "print(f'The minimum temperature is {trip_temps[0]}\\n'\n",
    "      f'The average temperature is {round(trip_temps[1],1)}\\n'\n",
    "      f'The maximum temperature is {trip_temps[2]}')"
   ]
  },
  {
   "cell_type": "code",
   "execution_count": 28,
   "metadata": {},
   "outputs": [
    {
     "data": {
      "image/png": "[encoded data removed]",
      "text/plain": [
       "<Figure size 216x360 with 1 Axes>"
      ]
     },
     "metadata": {},
     "output_type": "display_data"
    }
   ],
   "source": [
    "# Plot the results from your previous query as a bar chart. \n",
    "\n",
    "plt.figure(figsize=(3, 5))\n",
    "plt.bar(x=0.2, height = trip_temps[1], yerr=(trip_temps[2]-trip_temps[0]), align='edge')\n",
    "plt.tick_params(\n",
    "    axis='x',          \n",
    "    which='both',      \n",
    "    bottom=False,\n",
    "    labelbottom=False)\n",
    "plt.title('Trip Avg Temp')\n",
    "plt.ylabel('Temp(F)')\n",
    "plt.tight_layout()\n",
    "plt.savefig('Images/tripavgtemp.png')\n",
    "plt.show()"
   ]
  },
  {
   "cell_type": "code",
   "execution_count": 22,
   "metadata": {},
   "outputs": [
    {
     "data": {
      "text/html": [
       "<div>\n",
       "<style scoped>\n",
       "    .dataframe tbody tr th:only-of-type {\n",
       "        vertical-align: middle;\n",
       "    }\n",
       "\n",
       "    .dataframe tbody tr th {\n",
       "        vertical-align: top;\n",
       "    }\n",
       "\n",
       "    .dataframe thead th {\n",
       "        text-align: right;\n",
       "    }\n",
       "</style>\n",
       "<table border=\"1\" class=\"dataframe\">\n",
       "  <thead>\n",
       "    <tr style=\"text-align: right;\">\n",
       "      <th></th>\n",
       "      <th>Total Rainfall (in)</th>\n",
       "      <th>Station ID</th>\n",
       "      <th>Station Name</th>\n",
       "      <th>Latitude</th>\n",
       "      <th>Longitude</th>\n",
       "      <th>Elevation</th>\n",
       "    </tr>\n",
       "  </thead>\n",
       "  <tbody>\n",
       "    <tr>\n",
       "      <th>0</th>\n",
       "      <td>6.94</td>\n",
       "      <td>USC00516128</td>\n",
       "      <td>MANOA LYON ARBO 785.2, HI US</td>\n",
       "      <td>21.33310</td>\n",
       "      <td>-157.80250</td>\n",
       "      <td>152.4</td>\n",
       "    </tr>\n",
       "    <tr>\n",
       "      <th>1</th>\n",
       "      <td>1.74</td>\n",
       "      <td>USC00519523</td>\n",
       "      <td>WAIMANALO EXPERIMENTAL FARM, HI US</td>\n",
       "      <td>21.33556</td>\n",
       "      <td>-157.71139</td>\n",
       "      <td>19.5</td>\n",
       "    </tr>\n",
       "    <tr>\n",
       "      <th>2</th>\n",
       "      <td>1.61</td>\n",
       "      <td>USC00519281</td>\n",
       "      <td>WAIHEE 837.5, HI US</td>\n",
       "      <td>21.45167</td>\n",
       "      <td>-157.84889</td>\n",
       "      <td>32.9</td>\n",
       "    </tr>\n",
       "    <tr>\n",
       "      <th>3</th>\n",
       "      <td>1.40</td>\n",
       "      <td>USC00513117</td>\n",
       "      <td>KANEOHE 838.1, HI US</td>\n",
       "      <td>21.42340</td>\n",
       "      <td>-157.80150</td>\n",
       "      <td>14.6</td>\n",
       "    </tr>\n",
       "    <tr>\n",
       "      <th>4</th>\n",
       "      <td>0.51</td>\n",
       "      <td>USC00514830</td>\n",
       "      <td>KUALOA RANCH HEADQUARTERS 886.9, HI US</td>\n",
       "      <td>21.52130</td>\n",
       "      <td>-157.83740</td>\n",
       "      <td>7.0</td>\n",
       "    </tr>\n",
       "    <tr>\n",
       "      <th>5</th>\n",
       "      <td>0.44</td>\n",
       "      <td>USC00519397</td>\n",
       "      <td>WAIKIKI 717.2, HI US</td>\n",
       "      <td>21.27160</td>\n",
       "      <td>-157.81680</td>\n",
       "      <td>3.0</td>\n",
       "    </tr>\n",
       "  </tbody>\n",
       "</table>\n",
       "</div>"
      ],
      "text/plain": [
       "   Total Rainfall (in)   Station ID                            Station Name  \\\n",
       "0                 6.94  USC00516128            MANOA LYON ARBO 785.2, HI US   \n",
       "1                 1.74  USC00519523      WAIMANALO EXPERIMENTAL FARM, HI US   \n",
       "2                 1.61  USC00519281                     WAIHEE 837.5, HI US   \n",
       "3                 1.40  USC00513117                    KANEOHE 838.1, HI US   \n",
       "4                 0.51  USC00514830  KUALOA RANCH HEADQUARTERS 886.9, HI US   \n",
       "5                 0.44  USC00519397                    WAIKIKI 717.2, HI US   \n",
       "\n",
       "   Latitude  Longitude  Elevation  \n",
       "0  21.33310 -157.80250      152.4  \n",
       "1  21.33556 -157.71139       19.5  \n",
       "2  21.45167 -157.84889       32.9  \n",
       "3  21.42340 -157.80150       14.6  \n",
       "4  21.52130 -157.83740        7.0  \n",
       "5  21.27160 -157.81680        3.0  "
      ]
     },
     "execution_count": 22,
     "metadata": {},
     "output_type": "execute_result"
    }
   ],
   "source": [
    "# Calculate the total amount of rainfall per weather station for trip dates using the previous year's matching dates.\n",
    "# Sort this in descending order by precipitation amount and list the station, name, latitude, longitude, and elevation\n",
    "\n",
    "# Columns to be selected\n",
    "sel = [func.sum(Measurement.prcp).label('sum'), \n",
    "       Measurement.station, \n",
    "       Station.name, \n",
    "       Station.latitude, \n",
    "       Station.longitude, \n",
    "       Station.elevation]\n",
    "\n",
    "# Pull data from the database\n",
    "rainfall_station = session.query(*sel)\\\n",
    "                            .group_by(Measurement.station)\\\n",
    "                            .filter(Measurement.station == Station.station)\\\n",
    "                            .filter(Measurement.date >= start_date)\\\n",
    "                            .filter(Measurement.date <= end_date)\\\n",
    "                            .order_by(desc('sum'))\\\n",
    "                            .all()\n",
    "\n",
    "# Store data in dataframe\n",
    "rain_station_df = pd.DataFrame(rainfall_station, columns=['Total Rainfall (in)', \n",
    "                                                          'Station ID', \n",
    "                                                          'Station Name', \n",
    "                                                          'Latitude', \n",
    "                                                          'Longitude', \n",
    "                                                          'Elevation'])\n",
    "rain_station_df"
   ]
  },
  {
   "cell_type": "code",
   "execution_count": 23,
   "metadata": {},
   "outputs": [
    {
     "data": {
      "text/plain": [
       "[(62.0, 69.15384615384616, 77.0)]"
      ]
     },
     "execution_count": 23,
     "metadata": {},
     "output_type": "execute_result"
    }
   ],
   "source": [
    "# Create a query that will calculate the daily normals \n",
    "# (i.e. the averages for tmin, tmax, and tavg for all historic data matching a specific month and day)\n",
    "\n",
    "def daily_normals(date):\n",
    "    \"\"\"Daily Normals.\n",
    "    \n",
    "    Args:\n",
    "        date (str): A date string in the format '%m-%d'\n",
    "        \n",
    "    Returns:\n",
    "        A list of tuples containing the daily normals, tmin, tavg, and tmax\n",
    "    \n",
    "    \"\"\"\n",
    "    \n",
    "    sel = [func.min(Measurement.tobs), func.avg(Measurement.tobs), func.max(Measurement.tobs)]\n",
    "    return session.query(*sel).filter(func.strftime(\"%m-%d\", Measurement.date) == date).all()\n",
    "    \n",
    "daily_normals(\"01-01\")"
   ]
  },
  {
   "cell_type": "code",
   "execution_count": 24,
   "metadata": {},
   "outputs": [
    {
     "data": {
      "text/plain": [
       "[(64.0, 73.3157894736842, 78.0),\n",
       " (65.0, 73.61111111111111, 79.0),\n",
       " (65.0, 73.13793103448276, 79.0),\n",
       " (67.0, 73.14285714285714, 79.0),\n",
       " (63.0, 73.89285714285714, 80.0),\n",
       " (63.0, 73.69090909090909, 79.0),\n",
       " (68.0, 74.37931034482759, 80.0),\n",
       " (68.0, 74.45, 79.0),\n",
       " (68.0, 74.10714285714286, 82.0),\n",
       " (65.0, 73.80701754385964, 79.0),\n",
       " (68.0, 73.89655172413794, 79.0),\n",
       " (64.0, 72.96428571428571, 80.0),\n",
       " (64.0, 74.45614035087719, 80.0),\n",
       " (68.0, 74.94827586206897, 87.0),\n",
       " (67.0, 73.94827586206897, 79.0),\n",
       " (68.0, 74.27586206896552, 79.0)]"
      ]
     },
     "execution_count": 24,
     "metadata": {},
     "output_type": "execute_result"
    }
   ],
   "source": [
    "# Calculate the daily normals for trip dates\n",
    "\n",
    "# Create list of dates for trip\n",
    "dates = pd.date_range(start=start_date, end=end_date)\n",
    "\n",
    "# Save a list of month/day strings\n",
    "normals_dates = [date.strftime('%m-%d') for date in dates]\n",
    "\n",
    "# Save a list of tuples of the normals for each date\n",
    "normals = [daily_normals(date)[0] for date in normals_dates]\n",
    "normals"
   ]
  },
  {
   "cell_type": "code",
   "execution_count": 25,
   "metadata": {},
   "outputs": [
    {
     "data": {
      "text/html": [
       "<div>\n",
       "<style scoped>\n",
       "    .dataframe tbody tr th:only-of-type {\n",
       "        vertical-align: middle;\n",
       "    }\n",
       "\n",
       "    .dataframe tbody tr th {\n",
       "        vertical-align: top;\n",
       "    }\n",
       "\n",
       "    .dataframe thead th {\n",
       "        text-align: right;\n",
       "    }\n",
       "</style>\n",
       "<table border=\"1\" class=\"dataframe\">\n",
       "  <thead>\n",
       "    <tr style=\"text-align: right;\">\n",
       "      <th></th>\n",
       "      <th>Min Temp</th>\n",
       "      <th>Avg Temp</th>\n",
       "      <th>Max Temp</th>\n",
       "    </tr>\n",
       "    <tr>\n",
       "      <th>Date</th>\n",
       "      <th></th>\n",
       "      <th></th>\n",
       "      <th></th>\n",
       "    </tr>\n",
       "  </thead>\n",
       "  <tbody>\n",
       "    <tr>\n",
       "      <th>2017-05-10</th>\n",
       "      <td>64.0</td>\n",
       "      <td>73.315789</td>\n",
       "      <td>78.0</td>\n",
       "    </tr>\n",
       "    <tr>\n",
       "      <th>2017-05-11</th>\n",
       "      <td>65.0</td>\n",
       "      <td>73.611111</td>\n",
       "      <td>79.0</td>\n",
       "    </tr>\n",
       "    <tr>\n",
       "      <th>2017-05-12</th>\n",
       "      <td>65.0</td>\n",
       "      <td>73.137931</td>\n",
       "      <td>79.0</td>\n",
       "    </tr>\n",
       "    <tr>\n",
       "      <th>2017-05-13</th>\n",
       "      <td>67.0</td>\n",
       "      <td>73.142857</td>\n",
       "      <td>79.0</td>\n",
       "    </tr>\n",
       "    <tr>\n",
       "      <th>2017-05-14</th>\n",
       "      <td>63.0</td>\n",
       "      <td>73.892857</td>\n",
       "      <td>80.0</td>\n",
       "    </tr>\n",
       "    <tr>\n",
       "      <th>2017-05-15</th>\n",
       "      <td>63.0</td>\n",
       "      <td>73.690909</td>\n",
       "      <td>79.0</td>\n",
       "    </tr>\n",
       "    <tr>\n",
       "      <th>2017-05-16</th>\n",
       "      <td>68.0</td>\n",
       "      <td>74.379310</td>\n",
       "      <td>80.0</td>\n",
       "    </tr>\n",
       "    <tr>\n",
       "      <th>2017-05-17</th>\n",
       "      <td>68.0</td>\n",
       "      <td>74.450000</td>\n",
       "      <td>79.0</td>\n",
       "    </tr>\n",
       "    <tr>\n",
       "      <th>2017-05-18</th>\n",
       "      <td>68.0</td>\n",
       "      <td>74.107143</td>\n",
       "      <td>82.0</td>\n",
       "    </tr>\n",
       "    <tr>\n",
       "      <th>2017-05-19</th>\n",
       "      <td>65.0</td>\n",
       "      <td>73.807018</td>\n",
       "      <td>79.0</td>\n",
       "    </tr>\n",
       "    <tr>\n",
       "      <th>2017-05-20</th>\n",
       "      <td>68.0</td>\n",
       "      <td>73.896552</td>\n",
       "      <td>79.0</td>\n",
       "    </tr>\n",
       "    <tr>\n",
       "      <th>2017-05-21</th>\n",
       "      <td>64.0</td>\n",
       "      <td>72.964286</td>\n",
       "      <td>80.0</td>\n",
       "    </tr>\n",
       "    <tr>\n",
       "      <th>2017-05-22</th>\n",
       "      <td>64.0</td>\n",
       "      <td>74.456140</td>\n",
       "      <td>80.0</td>\n",
       "    </tr>\n",
       "    <tr>\n",
       "      <th>2017-05-23</th>\n",
       "      <td>68.0</td>\n",
       "      <td>74.948276</td>\n",
       "      <td>87.0</td>\n",
       "    </tr>\n",
       "    <tr>\n",
       "      <th>2017-05-24</th>\n",
       "      <td>67.0</td>\n",
       "      <td>73.948276</td>\n",
       "      <td>79.0</td>\n",
       "    </tr>\n",
       "    <tr>\n",
       "      <th>2017-05-25</th>\n",
       "      <td>68.0</td>\n",
       "      <td>74.275862</td>\n",
       "      <td>79.0</td>\n",
       "    </tr>\n",
       "  </tbody>\n",
       "</table>\n",
       "</div>"
      ],
      "text/plain": [
       "            Min Temp   Avg Temp  Max Temp\n",
       "Date                                     \n",
       "2017-05-10      64.0  73.315789      78.0\n",
       "2017-05-11      65.0  73.611111      79.0\n",
       "2017-05-12      65.0  73.137931      79.0\n",
       "2017-05-13      67.0  73.142857      79.0\n",
       "2017-05-14      63.0  73.892857      80.0\n",
       "2017-05-15      63.0  73.690909      79.0\n",
       "2017-05-16      68.0  74.379310      80.0\n",
       "2017-05-17      68.0  74.450000      79.0\n",
       "2017-05-18      68.0  74.107143      82.0\n",
       "2017-05-19      65.0  73.807018      79.0\n",
       "2017-05-20      68.0  73.896552      79.0\n",
       "2017-05-21      64.0  72.964286      80.0\n",
       "2017-05-22      64.0  74.456140      80.0\n",
       "2017-05-23      68.0  74.948276      87.0\n",
       "2017-05-24      67.0  73.948276      79.0\n",
       "2017-05-25      68.0  74.275862      79.0"
      ]
     },
     "execution_count": 25,
     "metadata": {},
     "output_type": "execute_result"
    }
   ],
   "source": [
    "# Load the previous query results into a Pandas DataFrame and add the `trip_dates` range as the `date` index\n",
    "dates_df = pd.DataFrame(dates, columns=['Date'])\n",
    "normals_df = pd.DataFrame(normals, columns=['Min Temp', 'Avg Temp', 'Max Temp'])\n",
    "normals_indexed = pd.merge(dates_df, normals_df, left_index=True, right_index=True).set_index('Date')\n",
    "normals_indexed"
   ]
  },
  {
   "cell_type": "code",
   "execution_count": 26,
   "metadata": {},
   "outputs": [
    {
     "data": {
      "image/png": "[encoded data removed]",
      "text/plain": [
       "<Figure size 432x288 with 1 Axes>"
      ]
     },
     "metadata": {},
     "output_type": "display_data"
    }
   ],
   "source": [
    "# Plot the daily normals as an area plot with `stacked=False`\n",
    "normals_indexed.plot.area(stacked=False, rot=45, x_compat=True, ylabel='Temp(F)', title='Daily Normals for Trip Dates')\n",
    "plt.tight_layout()\n",
    "plt.savefig('Images/tripdailynormals.png')\n",
    "plt.show()"
   ]
  }
 ],
 "metadata": {
  "kernel_info": {
   "name": "python3"
  },
  "kernelspec": {
   "display_name": "Python [conda env:PythonData] *",
   "language": "python",
   "name": "conda-env-PythonData-py"
  },
  "language_info": {
   "codemirror_mode": {
    "name": "ipython",
    "version": 3
   },
   "file_extension": ".py",
   "mimetype": "text/x-python",
   "name": "python",
   "nbconvert_exporter": "python",
   "pygments_lexer": "ipython3",
   "version": "3.6.10"
  },
  "nteract": {
   "version": "0.12.3"
  },
  "varInspector": {
   "cols": {
    "lenName": 16,
    "lenType": 16,
    "lenVar": 40
   },
   "kernels_config": {
    "python": {
     "delete_cmd_postfix": "",
     "delete_cmd_prefix": "del ",
     "library": "var_list.py",
     "varRefreshCmd": "print(var_dic_list())"
    },
    "r": {
     "delete_cmd_postfix": ") ",
     "delete_cmd_prefix": "rm(",
     "library": "var_list.r",
     "varRefreshCmd": "cat(var_dic_list()) "
    }
   },
   "types_to_exclude": [
    "module",
    "function",
    "builtin_function_or_method",
    "instance",
    "_Feature"
   ],
   "window_display": false
  }
 },
 "nbformat": 4,
 "nbformat_minor": 2
}
